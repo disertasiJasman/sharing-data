{
  "nbformat": 4,
  "nbformat_minor": 0,
  "metadata": {
    "colab": {
      "name": "deep_learning_jsp.ipynb",
      "version": "0.3.2",
      "provenance": [],
      "include_colab_link": true
    },
    "kernelspec": {
      "name": "python3",
      "display_name": "Python 3"
    },
    "accelerator": "GPU"
  },
  "cells": [
    {
      "cell_type": "markdown",
      "metadata": {
        "id": "view-in-github",
        "colab_type": "text"
      },
      "source": [
        "<a href=\"https://colab.research.google.com/github/disertasiJasman/sharing-data/blob/master/deep_learning_jsp.ipynb\" target=\"_parent\"><img src=\"https://colab.research.google.com/assets/colab-badge.svg\" alt=\"Open In Colab\"/></a>"
      ]
    },
    {
      "metadata": {
        "id": "L77WPnCB65YZ",
        "colab_type": "code",
        "outputId": "5f3379c0-c783-45c9-ae27-a85b0cbd133a",
        "colab": {
          "base_uri": "https://localhost:8080/",
          "height": 187
        }
      },
      "cell_type": "code",
      "source": [
        "x = 3\n",
        "print(type(x)) # Prints \"<class 'int'>\"\n",
        "print(x)       # Prints \"3\"\n",
        "print(x + 1)   # Addition; prints \"4\"\n",
        "print(x - 1)   # Subtraction; prints \"2\"\n",
        "print(x * 2)   # Multiplication; prints \"6\"\n",
        "print(x ** 2)  # Exponentiation; prints \"9\"\n",
        "x += 1\n",
        "print(x)  # Prints \"4\"\n",
        "x *= 2\n",
        "print(x)  # Prints \"8\"\n",
        "y = 2.5\n",
        "print(type(y)) # Prints \"<class 'float'>\"\n",
        "print(y, y + 1, y * 2, y ** 2) # Prints \"2.5 3.5 5.0 6.25\""
      ],
      "execution_count": 0,
      "outputs": [
        {
          "output_type": "stream",
          "text": [
            "<class 'int'>\n",
            "3\n",
            "4\n",
            "2\n",
            "6\n",
            "9\n",
            "4\n",
            "8\n",
            "<class 'float'>\n",
            "2.5 3.5 5.0 6.25\n"
          ],
          "name": "stdout"
        }
      ]
    },
    {
      "metadata": {
        "id": "FUbYF4SRy04U",
        "colab_type": "text"
      },
      "cell_type": "markdown",
      "source": [
        "# Bagian Baru"
      ]
    },
    {
      "metadata": {
        "id": "DrRg7SjY8S4m",
        "colab_type": "code",
        "colab": {}
      },
      "cell_type": "code",
      "source": [
        "!pip install -q keras"
      ],
      "execution_count": 0,
      "outputs": []
    },
    {
      "metadata": {
        "id": "lgWAK-Tb9Z1j",
        "colab_type": "code",
        "outputId": "23f2305a-5719-4dc8-e3dd-da5d25ad6d1f",
        "colab": {
          "base_uri": "https://localhost:8080/",
          "height": 343
        }
      },
      "cell_type": "code",
      "source": [
        "!pip install pydrive --upgrade"
      ],
      "execution_count": 0,
      "outputs": [
        {
          "output_type": "stream",
          "text": [
            "Collecting pydrive\n",
            "\u001b[?25l  Downloading https://files.pythonhosted.org/packages/52/e0/0e64788e5dd58ce2d6934549676243dc69d982f198524be9b99e9c2a4fd5/PyDrive-1.3.1.tar.gz (987kB)\n",
            "\r\u001b[K    1% |▎                               | 10kB 22.1MB/s eta 0:00:01\r\u001b[K    2% |▋                               | 20kB 29.1MB/s eta 0:00:01\r\u001b[K    3% |█                               | 30kB 34.4MB/s eta 0:00:01\r\u001b[K    4% |█▎                              | 40kB 37.2MB/s eta 0:00:01\r\u001b[K    5% |█▋                              | 51kB 41.1MB/s eta 0:00:01\r\u001b[K    6% |██                              | 61kB 45.5MB/s eta 0:00:01\r\u001b[K    7% |██▎                             | 71kB 34.8MB/s eta 0:00:01\r\u001b[K    8% |██▋                             | 81kB 35.6MB/s eta 0:00:01\r\u001b[K    9% |███                             | 92kB 38.0MB/s eta 0:00:01\r\u001b[K    10% |███▎                            | 102kB 37.4MB/s eta 0:00:01\r\u001b[K    11% |███▋                            | 112kB 41.1MB/s eta 0:00:01\r\u001b[K    12% |████                            | 122kB 42.3MB/s eta 0:00:01\r\u001b[K    13% |████▎                           | 133kB 35.8MB/s eta 0:00:01\r\u001b[K    14% |████▋                           | 143kB 35.3MB/s eta 0:00:01\r\u001b[K    15% |█████                           | 153kB 35.3MB/s eta 0:00:01\r\u001b[K    16% |█████▎                          | 163kB 32.3MB/s eta 0:00:01\r\u001b[K    17% |█████▋                          | 174kB 37.3MB/s eta 0:00:01\r\u001b[K    18% |██████                          | 184kB 38.4MB/s eta 0:00:01\r\u001b[K    19% |██████▎                         | 194kB 38.5MB/s eta 0:00:01\r\u001b[K    20% |██████▋                         | 204kB 34.8MB/s eta 0:00:01\r\u001b[K    21% |███████                         | 215kB 35.5MB/s eta 0:00:01\r\u001b[K    22% |███████▎                        | 225kB 36.0MB/s eta 0:00:01\r\u001b[K    23% |███████▋                        | 235kB 43.5MB/s eta 0:00:01\r\u001b[K    24% |████████                        | 245kB 45.2MB/s eta 0:00:01\r\u001b[K    25% |████████▎                       | 256kB 45.9MB/s eta 0:00:01\r\u001b[K    26% |████████▋                       | 266kB 41.0MB/s eta 0:00:01\r\u001b[K    27% |█████████                       | 276kB 43.5MB/s eta 0:00:01\r\u001b[K    29% |█████████▎                      | 286kB 43.9MB/s eta 0:00:01\r\u001b[K    30% |█████████▋                      | 296kB 42.1MB/s eta 0:00:01\r\u001b[K    31% |██████████                      | 307kB 52.0MB/s eta 0:00:01\r\u001b[K    32% |██████████▎                     | 317kB 42.6MB/s eta 0:00:01\r\u001b[K    33% |██████████▋                     | 327kB 41.9MB/s eta 0:00:01\r\u001b[K    34% |███████████                     | 337kB 42.2MB/s eta 0:00:01\r\u001b[K    35% |███████████▎                    | 348kB 31.6MB/s eta 0:00:01\r\u001b[K    36% |███████████▋                    | 358kB 31.4MB/s eta 0:00:01\r\u001b[K    37% |████████████                    | 368kB 37.1MB/s eta 0:00:01\r\u001b[K    38% |████████████▎                   | 378kB 37.4MB/s eta 0:00:01\r\u001b[K    39% |████████████▋                   | 389kB 37.2MB/s eta 0:00:01\r\u001b[K    40% |█████████████                   | 399kB 38.4MB/s eta 0:00:01\r\u001b[K    41% |█████████████▎                  | 409kB 33.9MB/s eta 0:00:01\r\u001b[K    42% |█████████████▋                  | 419kB 40.1MB/s eta 0:00:01\r\u001b[K    43% |██████████████                  | 430kB 40.4MB/s eta 0:00:01\r\u001b[K    44% |██████████████▎                 | 440kB 40.3MB/s eta 0:00:01\r\u001b[K    45% |██████████████▋                 | 450kB 55.7MB/s eta 0:00:01\r\u001b[K    46% |███████████████                 | 460kB 52.3MB/s eta 0:00:01\r\u001b[K    47% |███████████████▎                | 471kB 52.9MB/s eta 0:00:01\r\u001b[K    48% |███████████████▋                | 481kB 46.6MB/s eta 0:00:01\r\u001b[K    49% |████████████████                | 491kB 46.8MB/s eta 0:00:01\r\u001b[K    50% |████████████████▎               | 501kB 47.2MB/s eta 0:00:01\r\u001b[K    51% |████████████████▋               | 512kB 52.1MB/s eta 0:00:01\r\u001b[K    52% |█████████████████               | 522kB 52.1MB/s eta 0:00:01\r\u001b[K    53% |█████████████████▎              | 532kB 48.9MB/s eta 0:00:01\r\u001b[K    54% |█████████████████▋              | 542kB 48.9MB/s eta 0:00:01\r\u001b[K    55% |██████████████████              | 552kB 52.0MB/s eta 0:00:01\r\u001b[K    57% |██████████████████▎             | 563kB 55.6MB/s eta 0:00:01\r\u001b[K    58% |██████████████████▋             | 573kB 55.2MB/s eta 0:00:01\r\u001b[K    59% |███████████████████             | 583kB 65.0MB/s eta 0:00:01\r\u001b[K    60% |███████████████████▎            | 593kB 48.5MB/s eta 0:00:01\r\u001b[K    61% |███████████████████▋            | 604kB 48.2MB/s eta 0:00:01\r\u001b[K    62% |████████████████████            | 614kB 51.3MB/s eta 0:00:01\r\u001b[K    63% |████████████████████▎           | 624kB 51.1MB/s eta 0:00:01\r\u001b[K    64% |████████████████████▋           | 634kB 56.0MB/s eta 0:00:01\r\u001b[K    65% |█████████████████████           | 645kB 55.6MB/s eta 0:00:01\r\u001b[K    66% |█████████████████████▎          | 655kB 54.1MB/s eta 0:00:01\r\u001b[K    67% |█████████████████████▋          | 665kB 42.1MB/s eta 0:00:01\r\u001b[K    68% |██████████████████████          | 675kB 40.9MB/s eta 0:00:01\r\u001b[K    69% |██████████████████████▎         | 686kB 41.0MB/s eta 0:00:01\r\u001b[K    70% |██████████████████████▋         | 696kB 52.7MB/s eta 0:00:01\r\u001b[K    71% |███████████████████████         | 706kB 53.2MB/s eta 0:00:01\r\u001b[K    72% |███████████████████████▎        | 716kB 54.3MB/s eta 0:00:01\r\u001b[K    73% |███████████████████████▋        | 727kB 45.3MB/s eta 0:00:01\r\u001b[K    74% |████████████████████████        | 737kB 44.6MB/s eta 0:00:01\r\u001b[K    75% |████████████████████████▎       | 747kB 45.3MB/s eta 0:00:01\r\u001b[K    76% |████████████████████████▋       | 757kB 46.6MB/s eta 0:00:01\r\u001b[K    77% |████████████████████████▉       | 768kB 62.6MB/s eta 0:00:01\r\u001b[K    78% |█████████████████████████▏      | 778kB 65.9MB/s eta 0:00:01\r\u001b[K    79% |█████████████████████████▌      | 788kB 59.8MB/s eta 0:00:01\r\u001b[K    80% |█████████████████████████▉      | 798kB 58.7MB/s eta 0:00:01\r\u001b[K    81% |██████████████████████████▏     | 808kB 58.1MB/s eta 0:00:01\r\u001b[K    82% |██████████████████████████▌     | 819kB 57.3MB/s eta 0:00:01\r\u001b[K    83% |██████████████████████████▉     | 829kB 74.2MB/s eta 0:00:01\r\u001b[K    85% |███████████████████████████▏    | 839kB 75.5MB/s eta 0:00:01\r\u001b[K    86% |███████████████████████████▌    | 849kB 75.9MB/s eta 0:00:01\r\u001b[K    87% |███████████████████████████▉    | 860kB 63.7MB/s eta 0:00:01\r\u001b[K    88% |████████████████████████████▏   | 870kB 61.6MB/s eta 0:00:01\r\u001b[K    89% |████████████████████████████▌   | 880kB 61.8MB/s eta 0:00:01\r\u001b[K    90% |████████████████████████████▉   | 890kB 68.2MB/s eta 0:00:01\r\u001b[K    91% |█████████████████████████████▏  | 901kB 69.9MB/s eta 0:00:01\r\u001b[K    92% |█████████████████████████████▌  | 911kB 71.4MB/s eta 0:00:01\r\u001b[K    93% |█████████████████████████████▉  | 921kB 58.3MB/s eta 0:00:01\r\u001b[K    94% |██████████████████████████████▏ | 931kB 57.6MB/s eta 0:00:01\r\u001b[K    95% |██████████████████████████████▌ | 942kB 57.2MB/s eta 0:00:01\r\u001b[K    96% |██████████████████████████████▉ | 952kB 56.7MB/s eta 0:00:01\r\u001b[K    97% |███████████████████████████████▏| 962kB 66.8MB/s eta 0:00:01\r\u001b[K    98% |███████████████████████████████▌| 972kB 69.3MB/s eta 0:00:01\r\u001b[K    99% |███████████████████████████████▉| 983kB 69.5MB/s eta 0:00:01\r\u001b[K    100% |████████████████████████████████| 993kB 24.0MB/s \n",
            "\u001b[?25hRequirement already satisfied, skipping upgrade: google-api-python-client>=1.2 in /usr/local/lib/python3.6/dist-packages (from pydrive) (1.6.7)\n",
            "Requirement already satisfied, skipping upgrade: oauth2client>=4.0.0 in /usr/local/lib/python3.6/dist-packages (from pydrive) (4.1.3)\n",
            "Requirement already satisfied, skipping upgrade: PyYAML>=3.0 in /usr/local/lib/python3.6/dist-packages (from pydrive) (3.13)\n",
            "Requirement already satisfied, skipping upgrade: six<2dev,>=1.6.1 in /usr/local/lib/python3.6/dist-packages (from google-api-python-client>=1.2->pydrive) (1.11.0)\n",
            "Requirement already satisfied, skipping upgrade: uritemplate<4dev,>=3.0.0 in /usr/local/lib/python3.6/dist-packages (from google-api-python-client>=1.2->pydrive) (3.0.0)\n",
            "Requirement already satisfied, skipping upgrade: httplib2<1dev,>=0.9.2 in /usr/local/lib/python3.6/dist-packages (from google-api-python-client>=1.2->pydrive) (0.11.3)\n",
            "Requirement already satisfied, skipping upgrade: rsa>=3.1.4 in /usr/local/lib/python3.6/dist-packages (from oauth2client>=4.0.0->pydrive) (4.0)\n",
            "Requirement already satisfied, skipping upgrade: pyasn1>=0.1.7 in /usr/local/lib/python3.6/dist-packages (from oauth2client>=4.0.0->pydrive) (0.4.5)\n",
            "Requirement already satisfied, skipping upgrade: pyasn1-modules>=0.0.5 in /usr/local/lib/python3.6/dist-packages (from oauth2client>=4.0.0->pydrive) (0.2.4)\n",
            "Building wheels for collected packages: pydrive\n",
            "  Building wheel for pydrive (setup.py) ... \u001b[?25ldone\n",
            "\u001b[?25h  Stored in directory: /root/.cache/pip/wheels/fa/d2/9a/d3b6b506c2da98289e5d417215ce34b696db856643bad779f4\n",
            "Successfully built pydrive\n",
            "Installing collected packages: pydrive\n",
            "Successfully installed pydrive-1.3.1\n"
          ],
          "name": "stdout"
        }
      ]
    },
    {
      "metadata": {
        "id": "jSqMNX1q_5xV",
        "colab_type": "code",
        "outputId": "c9d7cddd-7f7c-4c7c-e4e9-5d99374d1fa5",
        "colab": {
          "base_uri": "https://localhost:8080/",
          "height": 122
        }
      },
      "cell_type": "code",
      "source": [
        "from google.colab import drive\n",
        "drive.mount('/content/drive/')"
      ],
      "execution_count": 0,
      "outputs": [
        {
          "output_type": "stream",
          "text": [
            "Go to this URL in a browser: https://accounts.google.com/o/oauth2/auth?client_id=947318989803-6bn6qk8qdgf4n4g3pfee6491hc0brc4i.apps.googleusercontent.com&redirect_uri=urn%3Aietf%3Awg%3Aoauth%3A2.0%3Aoob&scope=email%20https%3A%2F%2Fwww.googleapis.com%2Fauth%2Fdocs.test%20https%3A%2F%2Fwww.googleapis.com%2Fauth%2Fdrive%20https%3A%2F%2Fwww.googleapis.com%2Fauth%2Fdrive.photos.readonly%20https%3A%2F%2Fwww.googleapis.com%2Fauth%2Fpeopleapi.readonly&response_type=code\n",
            "\n",
            "Enter your authorization code:\n",
            "··········\n",
            "Mounted at /content/drive/\n"
          ],
          "name": "stdout"
        }
      ]
    },
    {
      "metadata": {
        "id": "4xz7JtRMAHRD",
        "colab_type": "code",
        "outputId": "ea0d936d-1e2b-4f1c-c1a1-29b92af5c036",
        "colab": {
          "base_uri": "https://localhost:8080/",
          "height": 34
        }
      },
      "cell_type": "code",
      "source": [
        "!ls \"/content/drive/My Drive/\""
      ],
      "execution_count": 0,
      "outputs": [
        {
          "output_type": "stream",
          "text": [
            " app  'Colab Notebooks'   dataset   project   Test.ipynb\n"
          ],
          "name": "stdout"
        }
      ]
    },
    {
      "metadata": {
        "id": "LSU39h_1AOli",
        "colab_type": "code",
        "colab": {}
      },
      "cell_type": "code",
      "source": [
        "!pip install -q keras"
      ],
      "execution_count": 0,
      "outputs": []
    },
    {
      "metadata": {
        "id": "JgrpmepjJWwS",
        "colab_type": "code",
        "outputId": "8cfd1936-0c93-41a9-f648-e7dc736be308",
        "colab": {
          "base_uri": "https://localhost:8080/",
          "height": 85
        }
      },
      "cell_type": "code",
      "source": [
        "!python3 \"/content/drive/My Drive/app/mnist_cnn.py\""
      ],
      "execution_count": 0,
      "outputs": [
        {
          "output_type": "stream",
          "text": [
            "Traceback (most recent call last):\n",
            "  File \"/content/drive/My Drive/app/mnist_cnn.py\", line 126, in <module>\n",
            "    \"execution_count\": null,\n",
            "NameError: name 'null' is not defined\n"
          ],
          "name": "stdout"
        }
      ]
    },
    {
      "metadata": {
        "id": "GFLp_E4WJyNs",
        "colab_type": "code",
        "outputId": "77c1c35f-6be6-475d-8187-b1e71cfccabe",
        "colab": {
          "base_uri": "https://localhost:8080/",
          "height": 34
        }
      },
      "cell_type": "code",
      "source": [
        "!ls \"/content/drive/My Drive/app/\""
      ],
      "execution_count": 0,
      "outputs": [
        {
          "output_type": "stream",
          "text": [
            "deep_learning_jsp.ipynb  main_test.py\n"
          ],
          "name": "stdout"
        }
      ]
    },
    {
      "metadata": {
        "id": "P4vVlu1oORS7",
        "colab_type": "code",
        "outputId": "56358cb0-c68e-4c46-94f5-3f15b61b7a43",
        "colab": {
          "base_uri": "https://localhost:8080/",
          "height": 34
        }
      },
      "cell_type": "code",
      "source": [
        "!pip3 \"/content/drive/My Drive/app/main_test.py\""
      ],
      "execution_count": 0,
      "outputs": [
        {
          "output_type": "stream",
          "text": [
            "ERROR: unknown command \"/content/drive/My Drive/app/main_test.py\"\n"
          ],
          "name": "stdout"
        }
      ]
    },
    {
      "metadata": {
        "id": "GJv2bHE5PM7P",
        "colab_type": "code",
        "outputId": "3d9b3361-f6eb-425b-d338-09c21095e8a4",
        "colab": {
          "base_uri": "https://localhost:8080/",
          "height": 54
        }
      },
      "cell_type": "code",
      "source": [
        "from google.colab import drive\n",
        "drive.mount('/content/drive')"
      ],
      "execution_count": 0,
      "outputs": [
        {
          "output_type": "stream",
          "text": [
            "Drive already mounted at /content/drive; to attempt to forcibly remount, call drive.mount(\"/content/drive\", force_remount=True).\n"
          ],
          "name": "stdout"
        }
      ]
    },
    {
      "metadata": {
        "id": "bugfJU2NPvCb",
        "colab_type": "code",
        "outputId": "2eeba2f9-a8fc-434e-976a-afcc28a9f4b8",
        "colab": {
          "base_uri": "https://localhost:8080/",
          "height": 34
        }
      },
      "cell_type": "code",
      "source": [
        "!python3 main_test.py"
      ],
      "execution_count": 0,
      "outputs": [
        {
          "output_type": "stream",
          "text": [
            "python3: can't open file 'main_test.py': [Errno 2] No such file or directory\n"
          ],
          "name": "stdout"
        }
      ]
    }
  ]
}