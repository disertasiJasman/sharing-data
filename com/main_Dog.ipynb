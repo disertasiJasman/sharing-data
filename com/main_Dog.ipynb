{
 "cells": [
  {
   "cell_type": "code",
   "execution_count": 5,
   "metadata": {},
   "outputs": [
    {
     "name": "stdout",
     "output_type": "stream",
     "text": [
      "Philo is 5 and Mikey is 6.\n",
      "Philo is a mammal!\n",
      "Mahasiswa Indentity is nim = 15001, name = Mumun, address = Bandung no. 1, and age = 17.\n"
     ]
    }
   ],
   "source": [
    "import import_ipynb\n",
    "\n",
    "import Dog\n",
    "from Dog import Dog\n",
    "import Mahasiswa\n",
    "from Mahasiswa import CmdMahasiswa\n",
    "\n",
    "def main():\n",
    "    # Instantiate the Dog object\n",
    "    philo = Dog(\"Philo\", 5)\n",
    "    mikey = Dog(\"Mikey\", 6)\n",
    "\n",
    "    # Access the instance attributes\n",
    "    print(\"{} is {} and {} is {}.\".format(\n",
    "        philo.name, philo.age, mikey.name, mikey.age))\n",
    "\n",
    "    # Is Philo a mammal?\n",
    "    if philo.species == \"mammal\":\n",
    "        print(\"{0} is a {1}!\".format(philo.name, philo.species))\n",
    "    \n",
    "    mhs = CmdMahasiswa(\"15001\", \"Mumun\", \"Bandung no. 1\", 17)\n",
    "    # Access the instance attributes\n",
    "    print(\"Mahasiswa Indentity is nim = {}, name = {}, address = {}, and age = {}.\".format(\n",
    "        mhs.nim, mhs.name, mhs.address, mhs.age))\n",
    "    \n",
    "if __name__ == \"__main__\":\n",
    "    main()"
   ]
  },
  {
   "cell_type": "code",
   "execution_count": null,
   "metadata": {},
   "outputs": [],
   "source": []
  }
 ],
 "metadata": {
  "kernelspec": {
   "display_name": "Python 3",
   "language": "python",
   "name": "python3"
  },
  "language_info": {
   "codemirror_mode": {
    "name": "ipython",
    "version": 3
   },
   "file_extension": ".py",
   "mimetype": "text/x-python",
   "name": "python",
   "nbconvert_exporter": "python",
   "pygments_lexer": "ipython3",
   "version": "3.6.5"
  }
 },
 "nbformat": 4,
 "nbformat_minor": 2
}
