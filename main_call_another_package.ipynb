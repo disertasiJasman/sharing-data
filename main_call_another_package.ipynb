{
 "cells": [
  {
   "cell_type": "code",
   "execution_count": 4,
   "metadata": {},
   "outputs": [
    {
     "name": "stdout",
     "output_type": "stream",
     "text": [
      "Mahasiswa Indentity is nim = 15001, name = Justine, address = Bandung no. 1, and age = 17.\n"
     ]
    }
   ],
   "source": [
    "import import_ipynb\n",
    "\n",
    "#import com.Mahasiswa\n",
    "from com.Mahasiswa import CmdMahasiswa\n",
    "\n",
    "def main():\n",
    "    mhs = CmdMahasiswa(\"15001\", \"Justine\", \"Bandung no. 1\", 17)\n",
    "    # Access the instance attributes\n",
    "    print(\"Mahasiswa Indentity is nim = {}, name = {}, address = {}, and age = {}.\".format(\n",
    "        mhs.nim, mhs.name, mhs.address, mhs.age))\n",
    "    \n",
    "if __name__ == \"__main__\":\n",
    "    main()\n"
   ]
  },
  {
   "cell_type": "code",
   "execution_count": null,
   "metadata": {},
   "outputs": [],
   "source": []
  }
 ],
 "metadata": {
  "kernelspec": {
   "display_name": "Python 3",
   "language": "python",
   "name": "python3"
  },
  "language_info": {
   "codemirror_mode": {
    "name": "ipython",
    "version": 3
   },
   "file_extension": ".py",
   "mimetype": "text/x-python",
   "name": "python",
   "nbconvert_exporter": "python",
   "pygments_lexer": "ipython3",
   "version": "3.6.5"
  }
 },
 "nbformat": 4,
 "nbformat_minor": 2
}
